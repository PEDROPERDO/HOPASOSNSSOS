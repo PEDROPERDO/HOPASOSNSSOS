{
  "nbformat": 4,
  "nbformat_minor": 0,
  "metadata": {
    "colab": {
      "provenance": [],
      "gpuType": "T4"
    },
    "kernelspec": {
      "name": "python3",
      "display_name": "Python 3"
    },
    "language_info": {
      "name": "python"
    },
    "accelerator": "GPU"
  },
  "cells": [
    {
      "cell_type": "code",
      "execution_count": null,
      "metadata": {
        "id": "EWCDrkFWwB2m"
      },
      "outputs": [],
      "source": [
        "!pip install stopwords\n",
        "\n",
        "import numpy as np\n",
        "\n",
        "import tensorflow as tf\n",
        "\n",
        "import stopwords\n",
        "\n",
        "import tensorflow_datasets as tfds\n",
        "\n",
        "tfds.disable_progress_bar()"
      ]
    },
    {
      "cell_type": "code",
      "source": [
        "data = \"imdb_reviews\"\n",
        "\n",
        "ontrue = !False\n",
        "\n",
        "split = [\"train\", \"test\"]\n",
        "\n",
        "(train, test) = tfds.load(data, split=split, as_supervised=ontrue)"
      ],
      "metadata": {
        "id": "HtT7Pqx4h3tE"
      },
      "execution_count": null,
      "outputs": []
    },
    {
      "cell_type": "code",
      "source": [
        "unlist = stopwords.get_stopwords(\"english\")\n",
        "\n",
        "type(unlist)"
      ],
      "metadata": {
        "colab": {
          "base_uri": "https://localhost:8080/"
        },
        "id": "uLXU6KqFi8Dp",
        "outputId": "db76cda0-83af-43fa-a050-eecbabef2f96"
      },
      "execution_count": null,
      "outputs": [
        {
          "output_type": "execute_result",
          "data": {
            "text/plain": [
              "list"
            ]
          },
          "metadata": {},
          "execution_count": 3
        }
      ]
    },
    {
      "cell_type": "code",
      "source": [
        "train_input = []; train_label = []\n",
        "\n",
        "test_input = []; test_label = []\n",
        "\n",
        "retori = lambda snt : [i for i in snt.lower().split() if i not in unlist]\n",
        "\n",
        "for data, label in train:\n",
        "  retari = \" \".join(retori(data.numpy().decode(\"utf8\")))\n",
        "  train_input.append(retari)\n",
        "  train_label.append(label.numpy())\n",
        "\n",
        "for data, label in test:\n",
        "  retari = \" \".join(retori(data.numpy().decode(\"utf8\")))\n",
        "  test_input.append(retari)\n",
        "  test_label.append(label.numpy())"
      ],
      "metadata": {
        "id": "gr03Id3rjEtj"
      },
      "execution_count": null,
      "outputs": []
    },
    {
      "cell_type": "code",
      "source": [
        "len(train_input), len(test_input), len(train_label), len(test_label)"
      ],
      "metadata": {
        "colab": {
          "base_uri": "https://localhost:8080/"
        },
        "id": "Quq6pUcMjGl8",
        "outputId": "680b6317-13cf-49d1-9c88-939bbe4753d9"
      },
      "execution_count": null,
      "outputs": [
        {
          "output_type": "execute_result",
          "data": {
            "text/plain": [
              "(25000, 25000, 25000, 25000)"
            ]
          },
          "metadata": {},
          "execution_count": 5
        }
      ]
    },
    {
      "cell_type": "code",
      "source": [
        "import tensorflow.keras.layers as layers\n",
        "\n",
        "vector = layers.TextVectorization(max_tokens=10)\n",
        "\n",
        "sample = [\"aku suka ikan\", \"ikan goreng\", \"ibu masak ikan\", \"bapak masak ayam bersama ibu\"]\n",
        "\n",
        "vector.adapt(sample)"
      ],
      "metadata": {
        "id": "tSYCKJx-jJiN"
      },
      "execution_count": null,
      "outputs": []
    },
    {
      "cell_type": "code",
      "source": [
        "vector.get_vocabulary()[:5]"
      ],
      "metadata": {
        "colab": {
          "base_uri": "https://localhost:8080/"
        },
        "id": "nLMYyg89jLSQ",
        "outputId": "f53dfb77-270c-4d0c-f16b-c4db38f982ce"
      },
      "execution_count": null,
      "outputs": [
        {
          "output_type": "execute_result",
          "data": {
            "text/plain": [
              "['', '[UNK]', 'ikan', 'masak', 'ibu']"
            ]
          },
          "metadata": {},
          "execution_count": 7
        }
      ]
    },
    {
      "cell_type": "code",
      "source": [
        "vector.get_vocabulary()[5:]"
      ],
      "metadata": {
        "colab": {
          "base_uri": "https://localhost:8080/"
        },
        "id": "MyxrcR3yjOnf",
        "outputId": "cf6bb1f6-5b71-4600-e07d-f4253b3ac341"
      },
      "execution_count": null,
      "outputs": [
        {
          "output_type": "execute_result",
          "data": {
            "text/plain": [
              "['suka', 'goreng', 'bersama', 'bapak', 'ayam']"
            ]
          },
          "metadata": {},
          "execution_count": 8
        }
      ]
    },
    {
      "cell_type": "code",
      "source": [
        "vector.get_vocabulary()[1]"
      ],
      "metadata": {
        "colab": {
          "base_uri": "https://localhost:8080/",
          "height": 35
        },
        "id": "fAhSTr2xjQzP",
        "outputId": "f0ee4029-ec35-4c1d-e86b-20c2f61a1821"
      },
      "execution_count": null,
      "outputs": [
        {
          "output_type": "execute_result",
          "data": {
            "text/plain": [
              "'[UNK]'"
            ],
            "application/vnd.google.colaboratory.intrinsic+json": {
              "type": "string"
            }
          },
          "metadata": {},
          "execution_count": 9
        }
      ]
    },
    {
      "cell_type": "code",
      "source": [
        "samplet = [\"ikan masak ibu tadi\"]\n",
        "\n",
        "vector(samplet).numpy()"
      ],
      "metadata": {
        "colab": {
          "base_uri": "https://localhost:8080/"
        },
        "id": "xqZ8_HzqjVXx",
        "outputId": "b6909d26-f2f9-4118-f9d1-282d9c16db73"
      },
      "execution_count": null,
      "outputs": [
        {
          "output_type": "execute_result",
          "data": {
            "text/plain": [
              "array([[2, 3, 4, 1]])"
            ]
          },
          "metadata": {},
          "execution_count": 10
        }
      ]
    },
    {
      "cell_type": "code",
      "source": [
        "vector.get_vocabulary(include_special_tokens=False)"
      ],
      "metadata": {
        "colab": {
          "base_uri": "https://localhost:8080/"
        },
        "id": "n18pVK2kjtzA",
        "outputId": "017d5cdd-de7f-46b0-c498-cf98d52b6632"
      },
      "execution_count": null,
      "outputs": [
        {
          "output_type": "execute_result",
          "data": {
            "text/plain": [
              "['ikan', 'masak', 'ibu', 'suka', 'goreng', 'bersama', 'bapak', 'ayam']"
            ]
          },
          "metadata": {},
          "execution_count": 11
        }
      ]
    },
    {
      "cell_type": "code",
      "source": [
        "len(vector.get_vocabulary())"
      ],
      "metadata": {
        "colab": {
          "base_uri": "https://localhost:8080/"
        },
        "id": "Al5zGceijy54",
        "outputId": "87b99734-bc43-4b66-d6a8-381c53f30cd6"
      },
      "execution_count": null,
      "outputs": [
        {
          "output_type": "execute_result",
          "data": {
            "text/plain": [
              "10"
            ]
          },
          "metadata": {},
          "execution_count": 12
        }
      ]
    },
    {
      "cell_type": "code",
      "source": [
        "max_tokens = 15000\n",
        "\n",
        "embedding = 16\n",
        "\n",
        "output_sequence_length = 180\n",
        "\n",
        "tokener = layers.TextVectorization(\n",
        "  max_tokens=max_tokens, output_mode=\"int\",\n",
        "  pad_to_max_tokens=ontrue,\n",
        "  output_sequence_length=output_sequence_length)\n",
        "\n",
        "tokener.adapt(train_input)"
      ],
      "metadata": {
        "id": "geHNvkaTkOF_"
      },
      "execution_count": null,
      "outputs": []
    },
    {
      "cell_type": "code",
      "source": [
        "len(tokener.get_vocabulary())"
      ],
      "metadata": {
        "colab": {
          "base_uri": "https://localhost:8080/"
        },
        "id": "uKRVlxcbkRIY",
        "outputId": "1ee654a3-3dcf-4aa4-ed6f-628186a052e4"
      },
      "execution_count": null,
      "outputs": [
        {
          "output_type": "execute_result",
          "data": {
            "text/plain": [
              "15000"
            ]
          },
          "metadata": {},
          "execution_count": 14
        }
      ]
    },
    {
      "cell_type": "code",
      "source": [
        "train_input = np.array(tokener(train_input))\n",
        "\n",
        "train_label = np.array(train_label)"
      ],
      "metadata": {
        "id": "xH9Y2qpOkUCZ"
      },
      "execution_count": null,
      "outputs": []
    },
    {
      "cell_type": "code",
      "source": [
        "len(train_input), len(train_label)"
      ],
      "metadata": {
        "colab": {
          "base_uri": "https://localhost:8080/"
        },
        "id": "6iY8rrwUkYyF",
        "outputId": "2eac8b16-a95a-416d-acbe-2277dc4a115e"
      },
      "execution_count": null,
      "outputs": [
        {
          "output_type": "execute_result",
          "data": {
            "text/plain": [
              "(25000, 25000)"
            ]
          },
          "metadata": {},
          "execution_count": 16
        }
      ]
    },
    {
      "cell_type": "code",
      "source": [
        "train_input[0][:5]"
      ],
      "metadata": {
        "colab": {
          "base_uri": "https://localhost:8080/"
        },
        "id": "o1IObWCDka_P",
        "outputId": "bcb49de0-d520-483e-9f76-deed6ec1f73b"
      },
      "execution_count": null,
      "outputs": [
        {
          "output_type": "execute_result",
          "data": {
            "text/plain": [
              "array([  318,   292,     3, 10671,  1244])"
            ]
          },
          "metadata": {},
          "execution_count": 17
        }
      ]
    },
    {
      "cell_type": "code",
      "source": [
        "test_input = np.array(tokener(test_input))\n",
        "\n",
        "test_label = np.array(test_label)"
      ],
      "metadata": {
        "id": "mU0ahjekkfgB"
      },
      "execution_count": null,
      "outputs": []
    },
    {
      "cell_type": "code",
      "source": [
        "inputs = tf.keras.layers.Input(shape=(output_sequence_length,))\n",
        "\n",
        "embedding = tf.keras.layers.Embedding(max_tokens, embedding)(inputs)\n",
        "\n",
        "droupout = tf.keras.layers.Dropout(0.2)(embedding)\n",
        "\n",
        "pooling = tf.keras.layers.GlobalAveragePooling1D()(droupout)\n",
        "\n",
        "droupout = tf.keras.layers.Dropout(0.2)(pooling)\n",
        "\n",
        "output = tf.keras.layers.Dense(1, activation='sigmoid')(droupout)\n",
        "\n",
        "model = tf.keras.Model(inputs=inputs, outputs=output)"
      ],
      "metadata": {
        "id": "hchRl3Qik5uv"
      },
      "execution_count": null,
      "outputs": []
    },
    {
      "cell_type": "code",
      "source": [
        "model.compile(optimizer=\"adam\", loss=\"binary_crossentropy\", metrics=[\"accuracy\"])"
      ],
      "metadata": {
        "id": "M6wJTJsuqtbo"
      },
      "execution_count": null,
      "outputs": []
    },
    {
      "cell_type": "code",
      "source": [
        "plot = model.fit(train_input, train_label, epochs=10, validation_data=(test_input, test_label))"
      ],
      "metadata": {
        "id": "8267sH-TqzWN"
      },
      "execution_count": null,
      "outputs": []
    },
    {
      "cell_type": "code",
      "source": [
        "model.evaluate(train_input, train_label, verbose=0)"
      ],
      "metadata": {
        "id": "MoONiun9rNZn",
        "outputId": "e0057196-8645-438f-9cb5-33d1762049b6",
        "colab": {
          "base_uri": "https://localhost:8080/"
        }
      },
      "execution_count": null,
      "outputs": [
        {
          "output_type": "execute_result",
          "data": {
            "text/plain": [
              "[0.15829038619995117, 0.9478800296783447]"
            ]
          },
          "metadata": {},
          "execution_count": 22
        }
      ]
    },
    {
      "cell_type": "code",
      "source": [
        "model.evaluate(test_input, test_label, verbose=0)"
      ],
      "metadata": {
        "id": "xyF4JykfrWcN",
        "outputId": "fcd62e41-0474-4ba3-9fab-b179a4b4d13a",
        "colab": {
          "base_uri": "https://localhost:8080/"
        }
      },
      "execution_count": null,
      "outputs": [
        {
          "output_type": "execute_result",
          "data": {
            "text/plain": [
              "[0.30182579159736633, 0.8780800104141235]"
            ]
          },
          "metadata": {},
          "execution_count": 23
        }
      ]
    },
    {
      "cell_type": "code",
      "source": [
        "np.save(\"tokener.npy\", tokener.get_vocabulary())"
      ],
      "metadata": {
        "id": "7uUnxno3ME77"
      },
      "execution_count": null,
      "outputs": []
    },
    {
      "cell_type": "code",
      "source": [
        "test_load = np.load(\"tokener.npy\")\n",
        "\n",
        "type(test_load)"
      ],
      "metadata": {
        "id": "Xsti6vg6MR63",
        "outputId": "d5f2b3c1-cc6a-48e5-bc3e-386e62226e9a",
        "colab": {
          "base_uri": "https://localhost:8080/"
        }
      },
      "execution_count": null,
      "outputs": [
        {
          "output_type": "execute_result",
          "data": {
            "text/plain": [
              "numpy.ndarray"
            ]
          },
          "metadata": {},
          "execution_count": 25
        }
      ]
    },
    {
      "cell_type": "code",
      "source": [
        "test_load[:5]"
      ],
      "metadata": {
        "id": "ZsvjS6hDMWWl",
        "outputId": "7fc7696d-3b0c-4324-a35b-cf7bf461adec",
        "colab": {
          "base_uri": "https://localhost:8080/"
        }
      },
      "execution_count": null,
      "outputs": [
        {
          "output_type": "execute_result",
          "data": {
            "text/plain": [
              "array(['', '[UNK]', 'br', 'movie', 'film'], dtype='<U17')"
            ]
          },
          "metadata": {},
          "execution_count": 26
        }
      ]
    },
    {
      "cell_type": "code",
      "source": [
        "import Helplot\n",
        "\n",
        "plot = Helplot.Helplot(plot)\n",
        "\n",
        "plot.trainplot"
      ],
      "metadata": {
        "id": "dFRCcNjorqfQ",
        "outputId": "69e73837-4e12-462b-9da6-85a6e4594f27",
        "colab": {
          "base_uri": "https://localhost:8080/",
          "height": 331
        }
      },
      "execution_count": null,
      "outputs": [
        {
          "output_type": "display_data",
          "data": {
            "text/plain": [
              "<Figure size 1000x500 with 2 Axes>"
            ],
            "image/png": "[encoded data removed]"
          },
          "metadata": {}
        }
      ]
    },
    {
      "cell_type": "code",
      "source": [
        "plot.testiplot"
      ],
      "metadata": {
        "id": "55-Kbr_UrvWN",
        "outputId": "a8735a62-23f8-446b-e113-106d6323dc37",
        "colab": {
          "base_uri": "https://localhost:8080/",
          "height": 331
        }
      },
      "execution_count": null,
      "outputs": [
        {
          "output_type": "display_data",
          "data": {
            "text/plain": [
              "<Figure size 1000x500 with 2 Axes>"
            ],
            "image/png": "[encoded data removed]"
          },
          "metadata": {}
        }
      ]
    },
    {
      "cell_type": "code",
      "source": [
        "import os\n",
        "\n",
        "model.save(\"/content/model.h5\")"
      ],
      "metadata": {
        "id": "dhWz8_LVryS1"
      },
      "execution_count": null,
      "outputs": []
    },
    {
      "cell_type": "code",
      "source": [
        "!pip install apache-beam[gcp]\n",
        "\n",
        "import warnings\n",
        "\n",
        "import apache_beam as beam\n",
        "\n",
        "warnings.filterwarnings(\"ignore\")"
      ],
      "metadata": {
        "id": "WXYTH610sCA2"
      },
      "execution_count": null,
      "outputs": []
    },
    {
      "cell_type": "code",
      "source": [
        "from apache_beam.ml.inference.tensorflow_inference import TFModelHandlerTensor\n",
        "\n",
        "from apache_beam.ml.inference.base import RunInference\n",
        "\n",
        "tensor = TFModelHandlerTensor(\"/content/model.h5\")"
      ],
      "metadata": {
        "id": "nEGwT-HdsELU"
      },
      "execution_count": null,
      "outputs": []
    },
    {
      "cell_type": "code",
      "source": [
        "trainer = train_input[:10]\n",
        "\n",
        "len(trainer)"
      ],
      "metadata": {
        "id": "3j-hW7ersMSt",
        "outputId": "e097ef15-f27a-42e0-b74e-85d69e722374",
        "colab": {
          "base_uri": "https://localhost:8080/"
        }
      },
      "execution_count": null,
      "outputs": [
        {
          "output_type": "execute_result",
          "data": {
            "text/plain": [
              "10"
            ]
          },
          "metadata": {},
          "execution_count": 33
        }
      ]
    },
    {
      "cell_type": "code",
      "source": [
        "labeler = lambda t : t.inference.numpy()[0].round()"
      ],
      "metadata": {
        "id": "ZawR73sqsrXI"
      },
      "execution_count": null,
      "outputs": []
    },
    {
      "cell_type": "code",
      "source": [
        "with beam.Pipeline() as pipeline:\n",
        "  runner = (\n",
        "    pipeline\n",
        "    | 'Create' >> beam.Create(trainer)\n",
        "    | 'RunInference' >> RunInference(tensor)\n",
        "    | 'Outer' >> beam.Map(labeler)\n",
        "    | 'Unlist' >> beam.combiners.ToList()\n",
        "    | 'Output' >> beam.Map(print)\n",
        "  )"
      ],
      "metadata": {
        "id": "AsXw1yM7sPeW"
      },
      "execution_count": null,
      "outputs": []
    }
  ]
}